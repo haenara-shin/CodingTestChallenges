{
 "cells": [
  {
   "cell_type": "code",
   "execution_count": null,
   "metadata": {},
   "outputs": [],
   "source": [
    "문제 설명\n",
    "\n",
    "rows x columns 크기인 행렬이 있습니다. 행렬에는 1부터 rows x columns까지의 숫자가 한 줄씩 순서대로 적혀있습니다. 이 행렬에서 직사각형 모양의 범위를 여러 번 선택해, 테두리 부분에 있는 숫자들을 시계방향으로 회전시키려 합니다. 각 회전은 (x1, y1, x2, y2)인 정수 4개로 표현하며, 그 의미는 다음과 같습니다.\n",
    "x1 행 y1 열부터 x2 행 y2 열까지의 영역에 해당하는 직사각형에서 테두리에 있는 숫자들을 한 칸씩 시계방향으로 회전합니다.\n",
    "다음은 6 x 6 크기 행렬의 예시입니다.\n",
    "grid_example.png\n",
    "이 행렬에 (2, 2, 5, 4) 회전을 적용하면, 아래 그림과 같이 2행 2열부터 5행 4열까지 영역의 테두리가 시계방향으로 회전합니다. 이때, 중앙의 15와 21이 있는 영역은 회전하지 않는 것을 주의하세요.\n",
    "rotation_example.png\n",
    "행렬의 세로 길이(행 개수) rows, 가로 길이(열 개수) columns, 그리고 회전들의 목록 queries가 주어질 때, 각 회전들을 배열에 적용한 뒤, 그 회전에 의해 위치가 바뀐 숫자들 중 가장 작은 숫자들을 순서대로 배열에 담아 return 하도록 solution 함수를 완성해주세요.\n",
    "제한사항\n",
    "rows는 2 이상 100 이하인 자연수입니다.\n",
    "columns는 2 이상 100 이하인 자연수입니다.\n",
    "처음에 행렬에는 가로 방향으로 숫자가 1부터 하나씩 증가하면서 적혀있습니다.\n",
    "즉, 아무 회전도 하지 않았을 때, i 행 j 열에 있는 숫자는 ((i-1) x columns + j)입니다.\n",
    "queries의 행의 개수(회전의 개수)는 1 이상 10,000 이하입니다.\n",
    "queries의 각 행은 4개의 정수 [x1, y1, x2, y2]입니다.\n",
    "x1 행 y1 열부터 x2 행 y2 열까지 영역의 테두리를 시계방향으로 회전한다는 뜻입니다.\n",
    "1 ≤ x1 < x2 ≤ rows, 1 ≤ y1 < y2 ≤ columns입니다.\n",
    "모든 회전은 순서대로 이루어집니다.\n",
    "예를 들어, 두 번째 회전에 대한 답은 첫 번째 회전을 실행한 다음, 그 상태에서 두 번째 회전을 실행했을 때 이동한 숫자 중 최솟값을 구하면 됩니다.\n",
    "입출력 예시\n",
    "rows\tcolumns\tqueries\tresult\n",
    "6\t6\t[[2,2,5,4],[3,3,6,6],[5,1,6,3]]\t[8, 10, 25]\n",
    "3\t3\t[[1,1,2,2],[1,2,2,3],[2,1,3,2],[2,2,3,3]]\t[1, 1, 5, 3]\n",
    "100\t97\t[[1,1,100,97]]\t[1]\n",
    "입출력 예 설명\n",
    "입출력 예 #1\n",
    "회전을 수행하는 과정을 그림으로 표현하면 다음과 같습니다.\n",
    "example1.png\n",
    "입출력 예 #2\n",
    "회전을 수행하는 과정을 그림으로 표현하면 다음과 같습니다.\n",
    "example2.png\n",
    "입출력 예 #3\n",
    "이 예시에서는 행렬의 테두리에 위치한 모든 칸들이 움직입니다. 따라서, 행렬의 테두리에 있는 수 중 가장 작은 숫자인 1이 바로 답이 됩니다."
   ]
  },
  {
   "cell_type": "code",
   "execution_count": 37,
   "metadata": {},
   "outputs": [],
   "source": [
    "rows = 6\n",
    "columns = 6\n",
    "queries = [[2,2,5,4],[3,3,6,6],[5,1,6,3]]"
   ]
  },
  {
   "cell_type": "code",
   "execution_count": 25,
   "metadata": {},
   "outputs": [
    {
     "data": {
      "text/plain": [
       "[[1, 2, 3, 4, 5, 6],\n",
       " [7, 8, 9, 10, 11, 12],\n",
       " [13, 14, 15, 16, 17, 18],\n",
       " [19, 20, 21, 22, 23, 24],\n",
       " [25, 26, 27, 28, 29, 30],\n",
       " [31, 32, 33, 34, 35, 36]]"
      ]
     },
     "execution_count": 25,
     "metadata": {},
     "output_type": "execute_result"
    }
   ],
   "source": [
    "fill = 1\n",
    "array = [[0 for i in range(rows)] for j in range(columns)]\n",
    "for i in range(rows):\n",
    "    for j in range(columns):\n",
    "        array[i][j] = fill\n",
    "        fill += 1\n",
    "array"
   ]
  },
  {
   "cell_type": "code",
   "execution_count": 27,
   "metadata": {},
   "outputs": [
    {
     "data": {
      "text/plain": [
       "[8, 9, 25]"
      ]
     },
     "execution_count": 27,
     "metadata": {},
     "output_type": "execute_result"
    }
   ],
   "source": [
    "answer = []\n",
    "for i in queries:\n",
    "    x1, y1, x2, y2 = i\n",
    "    temp = array[x1-1][y1-1]\n",
    "    min_val = temp\n",
    "    \n",
    "    for j in range(x1-1, x2-1): #왼쪽 세로 이동\n",
    "        a = array[j+1][y1-1]\n",
    "        array[j][y1-1] = a\n",
    "        min_val = min(min_val, a)\n",
    "        \n",
    "    for k in range(y1-1, y2-1): #하단 가로 이동\n",
    "        a = array[x2-1][k+1]\n",
    "        array[x2-1][k] = a\n",
    "        min_val = min(min_val, a)\n",
    "        \n",
    "    for l in range(x2-1, x1-1, -1): #오른쪽 세로 이동\n",
    "        a = array[l-1][y2-1]\n",
    "        array[l][y2-1] = a\n",
    "        min_val = min(min_val, a)\n",
    "    \n",
    "    for m in range(y2-1, y1-1, -1): #상단 가로 이동\n",
    "        a = array[x1-1][m-1]\n",
    "        array[x1-1][m] = a\n",
    "        min_val = min(min_val, a)\n",
    "    \n",
    "    array[x1-1][y1] = temp\n",
    "    answer.append(min_val)\n",
    "    \n",
    "answer"
   ]
  },
  {
   "cell_type": "code",
   "execution_count": 38,
   "metadata": {},
   "outputs": [],
   "source": [
    "def solution(rows, columns, queries):\n",
    "    answer = []\n",
    "    \n",
    "    #### row x col array 만들기 (1씩 증가)\n",
    "    fill = 1\n",
    "    array = [[0 for i in range(columns)] for j in range(rows)]\n",
    "    for i in range(rows):\n",
    "        for j in range(columns):\n",
    "            array[i][j] = fill\n",
    "            fill += 1\n",
    "    ####\n",
    "    \n",
    "    #### 회전: 왼쪽 세로 위로 밀고, 하단 가로 왼쪽으로 밀고, 오른쪽 세로 아래로 밀고, 상단 가로 오른쪽으로 밀고\n",
    "    for i in queries:\n",
    "        x1, y1, x2, y2 = i\n",
    "        temp = array[x1-1][y1-1]\n",
    "        min_val = temp\n",
    "    \n",
    "        for i in range(x1-1, x2-1): # 왼쪽 세로 위로 밀기\n",
    "            a = array[i+1][y1-1]\n",
    "            array[i][y1-1] = a\n",
    "            min_val = min(min_val, a)\n",
    "        \n",
    "        for i in range(y1-1, y2-1): # 하단 가로 왼쪽으로 밀기\n",
    "            a = array[x2-1][i+1]\n",
    "            array[x2-1][i] = a\n",
    "            min_val = min(min_val, a)\n",
    "            \n",
    "        for i in range(x2-1,x1-1,-1): # 오른쪽 가로 아래로 밀기\n",
    "            a = array[i-1][y2-1]\n",
    "            array[i][y2-1] = a\n",
    "            min_val = min(min_val, a)\n",
    "            \n",
    "        for i in range(y2-1,y1-1,-1): # 상단 가로 오른쪽 밀기\n",
    "            a = array[x1-1][i-1]\n",
    "            array[x1-1][i] = a\n",
    "            min_val = min(min_val, a)\n",
    "            \n",
    "        array[x1-1][y1] = temp\n",
    "        answer.append(min_val)\n",
    "    \n",
    "        \n",
    "    return answer"
   ]
  },
  {
   "cell_type": "code",
   "execution_count": 39,
   "metadata": {},
   "outputs": [
    {
     "data": {
      "text/plain": [
       "[8, 10, 25]"
      ]
     },
     "execution_count": 39,
     "metadata": {},
     "output_type": "execute_result"
    }
   ],
   "source": [
    "solution(rows, columns, queries)"
   ]
  },
  {
   "cell_type": "code",
   "execution_count": 40,
   "metadata": {},
   "outputs": [
    {
     "data": {
      "text/plain": [
       "[1, 1, 5, 3]"
      ]
     },
     "execution_count": 40,
     "metadata": {},
     "output_type": "execute_result"
    }
   ],
   "source": [
    "rows = 3\n",
    "columns = 3\n",
    "queries = [[1,1,2,2],[1,2,2,3],[2,1,3,2],[2,2,3,3]]\n",
    "solution(rows, columns, queries)"
   ]
  },
  {
   "cell_type": "code",
   "execution_count": 41,
   "metadata": {},
   "outputs": [
    {
     "data": {
      "text/plain": [
       "[1]"
      ]
     },
     "execution_count": 41,
     "metadata": {},
     "output_type": "execute_result"
    }
   ],
   "source": [
    "rows=100\n",
    "columns = 97\n",
    "queries= [[1,1,100,97]]\n",
    "solution(rows, columns, queries)"
   ]
  },
  {
   "cell_type": "code",
   "execution_count": null,
   "metadata": {},
   "outputs": [],
   "source": []
  }
 ],
 "metadata": {
  "kernelspec": {
   "display_name": "Python 3",
   "language": "python",
   "name": "python3"
  },
  "language_info": {
   "codemirror_mode": {
    "name": "ipython",
    "version": 3
   },
   "file_extension": ".py",
   "mimetype": "text/x-python",
   "name": "python",
   "nbconvert_exporter": "python",
   "pygments_lexer": "ipython3",
   "version": "3.7.6"
  }
 },
 "nbformat": 4,
 "nbformat_minor": 4
}
