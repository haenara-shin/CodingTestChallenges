{
 "cells": [
  {
   "cell_type": "code",
   "execution_count": null,
   "metadata": {},
   "outputs": [],
   "source": [
    "문제 설명\n",
    "\n",
    "양의 정수 x에 대한 함수 f(x)를 다음과 같이 정의합니다.\n",
    "x보다 크고 x와 비트가 1~2개 다른 수들 중에서 제일 작은 수\n",
    "예를 들어,\n",
    "f(2) = 3 입니다. 다음 표와 같이 2보다 큰 수들 중에서 비트가 다른 지점이 2개 이하이면서 제일 작은 수가 3이기 때문입니다.\n",
    "수\t비트\t다른 비트의 개수\n",
    "2\t000...0010\t\n",
    "3\t000...0011\t1\n",
    "f(7) = 11 입니다. 다음 표와 같이 7보다 큰 수들 중에서 비트가 다른 지점이 2개 이하이면서 제일 작은 수가 11이기 때문입니다.\n",
    "수\t비트\t다른 비트의 개수\n",
    "7\t000...0111\t\n",
    "8\t000...1000\t4\n",
    "9\t000...1001\t3\n",
    "10\t000...1010\t3\n",
    "11\t000...1011\t2\n",
    "정수들이 담긴 배열 numbers가 매개변수로 주어집니다. numbers의 모든 수들에 대하여 각 수의 f 값을 배열에 차례대로 담아 return 하도록 solution 함수를 완성해주세요.\n",
    "제한사항\n",
    "1 ≤ numbers의 길이 ≤ 100,000\n",
    "0 ≤ numbers의 모든 수 ≤ 1015\n",
    "입출력 예\n",
    "numbers\tresult\n",
    "[2,7]\t[3,11]\n",
    "입출력 예 설명\n",
    "입출력 예 #1\n",
    "문제 예시와 같습니다."
   ]
  },
  {
   "cell_type": "code",
   "execution_count": 5,
   "metadata": {},
   "outputs": [
    {
     "data": {
      "text/plain": [
       "['0', '1', '1']"
      ]
     },
     "execution_count": 5,
     "metadata": {},
     "output_type": "execute_result"
    }
   ],
   "source": [
    "bin_val = list('0' + (bin(2)[2:]))\n",
    "bin_val[-1] = '1'\n",
    "bin_val"
   ]
  },
  {
   "cell_type": "code",
   "execution_count": 17,
   "metadata": {},
   "outputs": [
    {
     "data": {
      "text/plain": [
       "3"
      ]
     },
     "execution_count": 17,
     "metadata": {},
     "output_type": "execute_result"
    }
   ],
   "source": [
    "(int(''.join(bin_val[1:]),2))"
   ]
  },
  {
   "cell_type": "code",
   "execution_count": 24,
   "metadata": {},
   "outputs": [
    {
     "data": {
      "text/plain": [
       "[3, 11]"
      ]
     },
     "execution_count": 24,
     "metadata": {},
     "output_type": "execute_result"
    }
   ],
   "source": [
    "def solution(numbers):\n",
    "    answer = []\n",
    "    for i in numbers:\n",
    "        bin_val = list('0' + (bin(i)[2:]))\n",
    "        if i % 2 == 0:\n",
    "            bin_val[-1] = '1'\n",
    "            result = (int(''.join(bin_val[1:]),2))\n",
    "        else:\n",
    "            str_ = ''.join(bin_val)\n",
    "            zero_idx = str_.rfind('0')\n",
    "            bin_val[zero_idx] = '1'\n",
    "            bin_val[zero_idx+1] = '0'\n",
    "            result = (int(''.join(bin_val), 2))\n",
    "        answer.append(result)\n",
    "    return answer\n",
    "solution([2,7])"
   ]
  },
  {
   "cell_type": "code",
   "execution_count": 22,
   "metadata": {},
   "outputs": [
    {
     "data": {
      "text/plain": [
       "['0', '1', '1', '1', '1', '1', '0', '1', '0', '0', '1']"
      ]
     },
     "execution_count": 22,
     "metadata": {},
     "output_type": "execute_result"
    }
   ],
   "source": [
    "a = [1001]\n",
    "list('0' + (bin(1001)[2:]))"
   ]
  },
  {
   "cell_type": "code",
   "execution_count": null,
   "metadata": {},
   "outputs": [],
   "source": []
  }
 ],
 "metadata": {
  "kernelspec": {
   "display_name": "Python 3",
   "language": "python",
   "name": "python3"
  },
  "language_info": {
   "codemirror_mode": {
    "name": "ipython",
    "version": 3
   },
   "file_extension": ".py",
   "mimetype": "text/x-python",
   "name": "python",
   "nbconvert_exporter": "python",
   "pygments_lexer": "ipython3",
   "version": "3.7.6"
  }
 },
 "nbformat": 4,
 "nbformat_minor": 4
}
