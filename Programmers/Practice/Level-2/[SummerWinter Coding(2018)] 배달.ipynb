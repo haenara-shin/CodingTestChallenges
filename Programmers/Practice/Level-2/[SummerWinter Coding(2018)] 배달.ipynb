{
 "cells": [
  {
   "cell_type": "markdown",
   "metadata": {},
   "source": [
    "N개의 마을로 이루어진 나라가 있습니다. 이 나라의 각 마을에는 1부터 N까지의 번호가 각각 하나씩 부여되어 있습니다. 각 마을은 양방향으로 통행할 수 있는 도로로 연결되어 있는데, 서로 다른 마을 간에 이동할 때는 이 도로를 지나야 합니다. 도로를 지날 때 걸리는 시간은 도로별로 다릅니다. 현재 1번 마을에 있는 음식점에서 각 마을로 음식 배달을 하려고 합니다. 각 마을로부터 음식 주문을 받으려고 하는데, N개의 마을 중에서 K 시간 이하로 배달이 가능한 마을에서만 주문을 받으려고 합니다. 다음은 N = 5, K = 3인 경우의 예시입니다.\n",
    "배달_1_uxun8t.png\n",
    "위 그림에서 1번 마을에 있는 음식점은 [1, 2, 4, 5] 번 마을까지는 3 이하의 시간에 배달할 수 있습니다. 그러나 3번 마을까지는 3시간 이내로 배달할 수 있는 경로가 없으므로 3번 마을에서는 주문을 받지 않습니다. 따라서 1번 마을에 있는 음식점이 배달 주문을 받을 수 있는 마을은 4개가 됩니다.\n",
    "마을의 개수 N, 각 마을을 연결하는 도로의 정보 road, 음식 배달이 가능한 시간 K가 매개변수로 주어질 때, 음식 주문을 받을 수 있는 마을의 개수를 return 하도록 solution 함수를 완성해주세요.\n",
    "제한사항\n",
    "마을의 개수 N은 1 이상 50 이하의 자연수입니다.\n",
    "road의 길이(도로 정보의 개수)는 1 이상 2,000 이하입니다.\n",
    "road의 각 원소는 마을을 연결하고 있는 각 도로의 정보를 나타냅니다.\n",
    "road는 길이가 3인 배열이며, 순서대로 (a, b, c)를 나타냅니다.\n",
    "a, b(1 ≤ a, b ≤ N, a != b)는 도로가 연결하는 두 마을의 번호이며, c(1 ≤ c ≤ 10,000, c는 자연수)는 도로를 지나는데 걸리는 시간입니다.\n",
    "두 마을 a, b를 연결하는 도로는 여러 개가 있을 수 있습니다.\n",
    "한 도로의 정보가 여러 번 중복해서 주어지지 않습니다.\n",
    "K는 음식 배달이 가능한 시간을 나타내며, 1 이상 500,000 이하입니다.\n",
    "임의의 두 마을간에 항상 이동 가능한 경로가 존재합니다.\n",
    "1번 마을에 있는 음식점이 K 이하의 시간에 배달이 가능한 마을의 개수를 return 하면 됩니다.\n",
    "입출력 예\n",
    "N\troad\tK\tresult\n",
    "5\t[[1,2,1],[2,3,3],[5,2,2],[1,4,2],[5,3,1],[5,4,2]]\t3\t4\n",
    "6\t[[1,2,1],[1,3,2],[2,3,2],[3,4,3],[3,5,2],[3,5,3],[5,6,1]]\t4\t4\n",
    "입출력 예 설명\n",
    "입출력 예 #1\n",
    "문제의 예시와 같습니다.\n",
    "입출력 예 #2\n",
    "주어진 마을과 도로의 모양은 아래 그림과 같습니다.\n",
    "배달_3_njc7kq.png\n",
    "1번 마을에서 배달에 4시간 이하가 걸리는 마을은 [1, 2, 3, 5] 4개이므로 4를 return 합니다."
   ]
  },
  {
   "cell_type": "markdown",
   "metadata": {},
   "source": [
    "[파이썬 heap 모듈 설명](https://www.daleseo.com/python-heapq/)"
   ]
  },
  {
   "cell_type": "code",
   "execution_count": 11,
   "metadata": {},
   "outputs": [
    {
     "data": {
      "text/plain": [
       "[(1, 1), (2, 4), (4, 7), (3, 3)]"
      ]
     },
     "execution_count": 11,
     "metadata": {},
     "output_type": "execute_result"
    }
   ],
   "source": [
    "import heapq\n",
    "\n",
    "heap = []\n",
    "\n",
    "heapq.heappush(heap, (2,4))\n",
    "heapq.heappush(heap, (1,1))\n",
    "heapq.heappush(heap, (4,7))\n",
    "heapq.heappush(heap, (3,3))\n",
    "\n",
    "heap"
   ]
  },
  {
   "cell_type": "code",
   "execution_count": 9,
   "metadata": {},
   "outputs": [
    {
     "data": {
      "text/plain": [
       "(0, 1)"
      ]
     },
     "execution_count": 9,
     "metadata": {},
     "output_type": "execute_result"
    }
   ],
   "source": [
    "heapq.heappop(heap)"
   ]
  },
  {
   "cell_type": "code",
   "execution_count": null,
   "metadata": {},
   "outputs": [],
   "source": [
    "heap[k] <= heap[2*k+1] and heap[k] <= heap[2*k+2]"
   ]
  },
  {
   "cell_type": "code",
   "execution_count": 14,
   "metadata": {},
   "outputs": [],
   "source": [
    "import heapq\n",
    "\n",
    "def dijkstra(start, road, distance):\n",
    "    \"\"\"\n",
    "    특정 노드에서 출발해서 다른 모든 노드로 가는 최단 경로 계산\n",
    "    heap (우선순위큐) 사용 - 파이썬은 최소힙. \n",
    "    heappush(heap, (우선순위, 값))\n",
    "    \"\"\"\n",
    "    \n",
    "    # 시작 마을의 거리는 0\n",
    "    distance[start] = 0\n",
    "    \n",
    "    heap = []\n",
    "    # 시작 마을에서 시작 마을 자기 자신으로 가기 위한 최단 경로는 0 \n",
    "    heapq.heappush(heap, (0, start))\n",
    "    \n",
    "    # heap 빌때 까지 실행\n",
    "    while heap:\n",
    "        dist, now = heapq.heappop(heap) # 가장 최단 거리가 짧은 마을에 대한 정보 꺼내기 (우선순위, 값)의 순서에서 (거리, 마을)이니까 거리 기준으로 뽑음\n",
    "        \n",
    "        if distance[now] < dist: # 현재 마을이 이미 처리 된적이 있다면 무시\n",
    "            continue\n",
    "        \n",
    "        # 거리 정보가 있는 road를 하나씩 꺼내본다\n",
    "        for i in road:\n",
    "            # 출발지가 현재 마을이라면 \n",
    "            if i[0] == now:\n",
    "                # 거쳐서 가는 비용은 위에서 꺼낸 dist + 배열의 두 번째 인덱스 값\n",
    "                cost = dist + i[2]\n",
    "                \n",
    "                # 다음 마을을 변수에 넣어준다(보기 좋게)\n",
    "                next_town = i[1]\n",
    "                # 현재 마을을 거쳐서 다른 마을로 이동하는 거리가 더 짧은 경우\n",
    "                if cost < distance[next_town]:\n",
    "                    distance[next_town] = cost\n",
    "                    heapq.heappush(heap, (cost, next_town))\n",
    "            \n",
    "            # 도착지가 현재 마을이라면\n",
    "            elif i[1] == now:\n",
    "                cost = dist + i[2]\n",
    "                \n",
    "                # 현재 마을로 오기 위한 출발지는 그럼 당연 i[0]\n",
    "                prev_town = i[0]\n",
    "                if cost < distance[prev_town]:\n",
    "                    distance[prev_town] = cost\n",
    "                    heapq.heappush(heap, (cost, prev_town))\n",
    "    return distance\n",
    "\n",
    "def solution(N, road, K):\n",
    "    \"\"\"\n",
    "    N: 마을의 수\n",
    "    road: 도로의 정보 담긴 2차원 배열 [0]: 출발, [1]: 도착, [2]: 걸리는 시간\n",
    "    K: 배달이 가능한 K 이하의 시간\n",
    "    \"\"\"\n",
    "    answer = 0\n",
    "    \n",
    "    # 시작 마을 항상 고정\n",
    "    start = 1\n",
    "    \n",
    "    # 최단 거리 테이블 무한으로 세팅\n",
    "    distance = [int(1e9)] * (N+1) # 0번 마을이 아니라 1번 마을 부터 시작\n",
    "    \n",
    "    # 다익스트라 알고리즘 실행 - 업데이트 된 distance 테이블(최단 거리 정보 담긴 배열) 리턴 받음\n",
    "    dijkstra(start, road, distance)\n",
    "    \n",
    "    for i in distance:\n",
    "        if i <= K:\n",
    "            answer += 1\n",
    "    return answer"
   ]
  },
  {
   "cell_type": "code",
   "execution_count": 15,
   "metadata": {},
   "outputs": [
    {
     "data": {
      "text/plain": [
       "4"
      ]
     },
     "execution_count": 15,
     "metadata": {},
     "output_type": "execute_result"
    }
   ],
   "source": [
    "solution(5,[[1,2,1],[2,3,3],[5,2,2],[1,4,2],[5,3,1],[5,4,2]],3)"
   ]
  },
  {
   "cell_type": "code",
   "execution_count": 23,
   "metadata": {},
   "outputs": [],
   "source": [
    "import heapq\n",
    "\n",
    "def dijkstra(distance, adjacent):\n",
    "    heap = []\n",
    "    heapq.heappush(heap, [0,1])\n",
    "    \n",
    "    while heap:\n",
    "        cost, now = heapq.heappop(heap)\n",
    "        for c, n in adjacent[now]:\n",
    "            if cost + c < distance[n]:\n",
    "                distance[n] = cost + c\n",
    "                heapq.heappush(heap, [cost+c, n])\n",
    "                \n",
    "def solution(N, road, K):\n",
    "    answer = 0\n",
    "    distance = [int(1e9)] * (N+1)\n",
    "    distance[1] = 0\n",
    "    adjacent = [[] for _ in range(N+1)]\n",
    "    for i in road:\n",
    "        adjacent[i[0]].append([i[2], i[1]])\n",
    "        adjacent[i[1]].append([i[2], i[0]]) # adjacent 행렬은, 1번 인덱스(마을)에 (거리,도착 마을)로 담는다\n",
    "    dijkstra(distance, adjacent)\n",
    "    print(adjacent)\n",
    "    for i in distance:\n",
    "        if i <= K:\n",
    "            answer += 1\n",
    "    return answer"
   ]
  },
  {
   "cell_type": "code",
   "execution_count": 24,
   "metadata": {},
   "outputs": [
    {
     "name": "stdout",
     "output_type": "stream",
     "text": [
      "[[], [[1, 2], [2, 4]], [[1, 1], [3, 3], [2, 5]], [[3, 2], [1, 5]], [[2, 1], [2, 5]], [[2, 2], [1, 3], [2, 4]]]\n"
     ]
    },
    {
     "data": {
      "text/plain": [
       "4"
      ]
     },
     "execution_count": 24,
     "metadata": {},
     "output_type": "execute_result"
    }
   ],
   "source": [
    "solution(5,[[1,2,1],[2,3,3],[5,2,2],[1,4,2],[5,3,1],[5,4,2]],3)"
   ]
  },
  {
   "cell_type": "code",
   "execution_count": 25,
   "metadata": {},
   "outputs": [
    {
     "name": "stdout",
     "output_type": "stream",
     "text": [
      "1 2\n",
      "2 4\n"
     ]
    }
   ],
   "source": [
    "for i, j in [[1, 2], [2, 4]]:\n",
    "    print(i, j)"
   ]
  },
  {
   "cell_type": "code",
   "execution_count": null,
   "metadata": {},
   "outputs": [],
   "source": []
  }
 ],
 "metadata": {
  "kernelspec": {
   "display_name": "Python 3",
   "language": "python",
   "name": "python3"
  },
  "language_info": {
   "codemirror_mode": {
    "name": "ipython",
    "version": 3
   },
   "file_extension": ".py",
   "mimetype": "text/x-python",
   "name": "python",
   "nbconvert_exporter": "python",
   "pygments_lexer": "ipython3",
   "version": "3.7.6"
  }
 },
 "nbformat": 4,
 "nbformat_minor": 4
}
