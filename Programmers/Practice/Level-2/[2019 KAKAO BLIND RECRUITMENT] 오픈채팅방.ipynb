{
 "cells": [
  {
   "cell_type": "markdown",
   "metadata": {},
   "source": [
    "문제 설명\n",
    "\n",
    "오픈채팅방\n",
    "카카오톡 오픈채팅방에서는 친구가 아닌 사람들과 대화를 할 수 있는데, 본래 닉네임이 아닌 가상의 닉네임을 사용하여 채팅방에 들어갈 수 있다.\n",
    "신입사원인 김크루는 카카오톡 오픈 채팅방을 개설한 사람을 위해, 다양한 사람들이 들어오고, 나가는 것을 지켜볼 수 있는 관리자창을 만들기로 했다. 채팅방에 누군가 들어오면 다음 메시지가 출력된다.\n",
    "\"[닉네임]님이 들어왔습니다.\"\n",
    "채팅방에서 누군가 나가면 다음 메시지가 출력된다.\n",
    "\"[닉네임]님이 나갔습니다.\"\n",
    "채팅방에서 닉네임을 변경하는 방법은 다음과 같이 두 가지이다.\n",
    "채팅방을 나간 후, 새로운 닉네임으로 다시 들어간다.\n",
    "채팅방에서 닉네임을 변경한다.\n",
    "닉네임을 변경할 때는 기존에 채팅방에 출력되어 있던 메시지의 닉네임도 전부 변경된다.\n",
    "예를 들어, 채팅방에 \"Muzi\"와 \"Prodo\"라는 닉네임을 사용하는 사람이 순서대로 들어오면 채팅방에는 다음과 같이 메시지가 출력된다.\n",
    "\"Muzi님이 들어왔습니다.\"\n",
    "\"Prodo님이 들어왔습니다.\"\n",
    "채팅방에 있던 사람이 나가면 채팅방에는 다음과 같이 메시지가 남는다.\n",
    "\"Muzi님이 들어왔습니다.\"\n",
    "\"Prodo님이 들어왔습니다.\"\n",
    "\"Muzi님이 나갔습니다.\"\n",
    "Muzi가 나간후 다시 들어올 때, Prodo 라는 닉네임으로 들어올 경우 기존에 채팅방에 남아있던 Muzi도 Prodo로 다음과 같이 변경된다.\n",
    "\"Prodo님이 들어왔습니다.\"\n",
    "\"Prodo님이 들어왔습니다.\"\n",
    "\"Prodo님이 나갔습니다.\"\n",
    "\"Prodo님이 들어왔습니다.\"\n",
    "채팅방은 중복 닉네임을 허용하기 때문에, 현재 채팅방에는 Prodo라는 닉네임을 사용하는 사람이 두 명이 있다. 이제, 채팅방에 두 번째로 들어왔던 Prodo가 Ryan으로 닉네임을 변경하면 채팅방 메시지는 다음과 같이 변경된다.\n",
    "\"Prodo님이 들어왔습니다.\"\n",
    "\"Ryan님이 들어왔습니다.\"\n",
    "\"Prodo님이 나갔습니다.\"\n",
    "\"Prodo님이 들어왔습니다.\"\n",
    "채팅방에 들어오고 나가거나, 닉네임을 변경한 기록이 담긴 문자열 배열 record가 매개변수로 주어질 때, 모든 기록이 처리된 후, 최종적으로 방을 개설한 사람이 보게 되는 메시지를 문자열 배열 형태로 return 하도록 solution 함수를 완성하라.\n",
    "제한사항\n",
    "record는 다음과 같은 문자열이 담긴 배열이며, 길이는 1 이상 100,000 이하이다.\n",
    "다음은 record에 담긴 문자열에 대한 설명이다.\n",
    "모든 유저는 [유저 아이디]로 구분한다.\n",
    "[유저 아이디] 사용자가 [닉네임]으로 채팅방에 입장 - \"Enter [유저 아이디] [닉네임]\" (ex. \"Enter uid1234 Muzi\")\n",
    "[유저 아이디] 사용자가 채팅방에서 퇴장 - \"Leave [유저 아이디]\" (ex. \"Leave uid1234\")\n",
    "[유저 아이디] 사용자가 닉네임을 [닉네임]으로 변경 - \"Change [유저 아이디] [닉네임]\" (ex. \"Change uid1234 Muzi\")\n",
    "첫 단어는 Enter, Leave, Change 중 하나이다.\n",
    "각 단어는 공백으로 구분되어 있으며, 알파벳 대문자, 소문자, 숫자로만 이루어져있다.\n",
    "유저 아이디와 닉네임은 알파벳 대문자, 소문자를 구별한다.\n",
    "유저 아이디와 닉네임의 길이는 1 이상 10 이하이다.\n",
    "채팅방에서 나간 유저가 닉네임을 변경하는 등 잘못 된 입력은 주어지지 않는다.\n",
    "입출력 예\n",
    "record\tresult\n",
    "[\"Enter uid1234 Muzi\", \"Enter uid4567 Prodo\",\"Leave uid1234\",\"Enter uid1234 Prodo\",\"Change uid4567 Ryan\"]\t[\"Prodo님이 들어왔습니다.\", \"Ryan님이 들어왔습니다.\", \"Prodo님이 나갔습니다.\", \"Prodo님이 들어왔습니다.\"]\n",
    "입출력 예 설명\n",
    "입출력 예 #1\n",
    "문제의 설명과 같다."
   ]
  },
  {
   "cell_type": "code",
   "execution_count": 46,
   "metadata": {},
   "outputs": [],
   "source": [
    "record = [\"Enter uid1234 Muzi\", \"Enter uid4567 Prodo\",\"Leave uid1234\",\"Enter uid1234 Prodo\",\"Change uid4567 Ryan\"]\n",
    "result = [\"Prodo님이 들어왔습니다.\", \"Ryan님이 들어왔습니다.\", \"Prodo님이 나갔습니다.\", \"Prodo님이 들어왔습니다.\"]"
   ]
  },
  {
   "cell_type": "code",
   "execution_count": 50,
   "metadata": {},
   "outputs": [
    {
     "name": "stdout",
     "output_type": "stream",
     "text": [
      "defaultdict(<class 'str'>, {'uid4567': 'Ryan', 'uid1234': 'Prodo'})\n"
     ]
    }
   ],
   "source": [
    "from collections import defaultdict\n",
    "result = []\n",
    "dic = defaultdict(str)\n",
    "for i in record:\n",
    "    record_split = i.split()\n",
    "    if record_split[0] == 'Enter':\n",
    "        dic[record_split[1]] = record_split[2]\n",
    "    elif record_split[0] == 'Leave':\n",
    "        del dic[record_split[1]]\n",
    "    elif record_split[0] == 'Change':\n",
    "        dic[record_split[1]] = record_split[2]\n",
    "print(dic)"
   ]
  },
  {
   "cell_type": "code",
   "execution_count": 51,
   "metadata": {},
   "outputs": [
    {
     "data": {
      "text/plain": [
       "[]"
      ]
     },
     "execution_count": 51,
     "metadata": {},
     "output_type": "execute_result"
    }
   ],
   "source": [
    "result"
   ]
  },
  {
   "cell_type": "code",
   "execution_count": 52,
   "metadata": {},
   "outputs": [
    {
     "data": {
      "text/plain": [
       "['Prodo님이 들어왔습니다.', 'Ryan님이 들어왔습니다.', 'Prodo님이 나갔습니다.', 'Prodo님이 들어왔습니다.']"
      ]
     },
     "execution_count": 52,
     "metadata": {},
     "output_type": "execute_result"
    }
   ],
   "source": [
    "for i in record:\n",
    "    record_split = i.split()\n",
    "    if record_split[0] == 'Enter':\n",
    "        content = dic[record_split[1]] + '님이 ' + '들어왔습니다.'\n",
    "#         result.append(content)\n",
    "    elif record_split[0] == 'Leave':\n",
    "        content = dic[record_split[1]] + '님이 ' + '나갔습니다.'\n",
    "#         result.append(content)\n",
    "    else:\n",
    "        continue\n",
    "    result.append(content)\n",
    "result"
   ]
  },
  {
   "cell_type": "code",
   "execution_count": 81,
   "metadata": {},
   "outputs": [],
   "source": [
    "##### 좀 더 빠른 풀이임.\n",
    "\n",
    "from collections import defaultdict\n",
    "\n",
    "def solution(record):\n",
    "    answer = []\n",
    "    dic = defaultdict(str)\n",
    "    for i in record:\n",
    "        record_split = i.split()\n",
    "        if record_split[0] == 'Enter' or record_split[0] == 'Change':\n",
    "            dic[record_split[1]] = record_split[2]\n",
    "#         elif record_split[0] == 'Leave':\n",
    "#             del dic[record_split[1]] \n",
    "    for i in record:\n",
    "        record_split = i.split()\n",
    "        if record_split[0] == 'Enter':\n",
    "            answer.append(dic[record_split[1]] + '님이 ' + '들어왔습니다.')\n",
    "        elif record_split[0] == 'Leave':\n",
    "            answer.append(dic[record_split[1]] + '님이 ' + '나갔습니다.')\n",
    "        else:\n",
    "            pass\n",
    "\n",
    "        \n",
    "    return answer"
   ]
  },
  {
   "cell_type": "code",
   "execution_count": 80,
   "metadata": {},
   "outputs": [
    {
     "data": {
      "text/plain": [
       "['Prodo님이 들어왔습니다.', 'Ryan님이 들어왔습니다.', 'Prodo님이 나갔습니다.', 'Prodo님이 들어왔습니다.']"
      ]
     },
     "execution_count": 80,
     "metadata": {},
     "output_type": "execute_result"
    }
   ],
   "source": [
    "solution(record)"
   ]
  },
  {
   "cell_type": "code",
   "execution_count": 73,
   "metadata": {},
   "outputs": [],
   "source": [
    "def solution(record):\n",
    "    answer = []\n",
    "    dic = {}\n",
    "    for i in record:\n",
    "        if i.split(' ')[0] == 'Enter' or i.split(' ')[0] == 'Change':\n",
    "            dic[i.split(' ')[1]] = i.split(' ')[2]\n",
    "            \n",
    "    for i in record:\n",
    "        if i.split(' ')[0] == 'Enter':\n",
    "            answer.append(\"{}님이 들어왔습니다.\" .format(dic[i.split(' ')[1]]))\n",
    "        elif i.split(' ')[0] == 'Leave':\n",
    "            answer.append(\"{}님이 나갔습니다.\".format(dic[i.split(' ')[1]]))\n",
    "        else:\n",
    "            pass\n",
    "    return answer"
   ]
  },
  {
   "cell_type": "code",
   "execution_count": 74,
   "metadata": {},
   "outputs": [
    {
     "data": {
      "text/plain": [
       "['Prodo님이 들어왔습니다.', 'Ryan님이 들어왔습니다.', 'Prodo님이 나갔습니다.', 'Prodo님이 들어왔습니다.']"
      ]
     },
     "execution_count": 74,
     "metadata": {},
     "output_type": "execute_result"
    }
   ],
   "source": [
    "solution(record)"
   ]
  }
 ],
 "metadata": {
  "kernelspec": {
   "display_name": "Python 3",
   "language": "python",
   "name": "python3"
  },
  "language_info": {
   "codemirror_mode": {
    "name": "ipython",
    "version": 3
   },
   "file_extension": ".py",
   "mimetype": "text/x-python",
   "name": "python",
   "nbconvert_exporter": "python",
   "pygments_lexer": "ipython3",
   "version": "3.7.6"
  }
 },
 "nbformat": 4,
 "nbformat_minor": 4
}
