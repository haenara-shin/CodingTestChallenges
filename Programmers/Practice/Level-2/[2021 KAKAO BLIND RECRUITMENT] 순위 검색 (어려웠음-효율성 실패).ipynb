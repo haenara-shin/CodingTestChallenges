{
 "cells": [
  {
   "cell_type": "code",
   "execution_count": null,
   "metadata": {},
   "outputs": [],
   "source": [
    "[본 문제는 정확성과 효율성 테스트 각각 점수가 있는 문제입니다.]\n",
    "카카오는 하반기 경력 개발자 공개채용을 진행 중에 있으며 현재 지원서 접수와 코딩테스트가 종료되었습니다. 이번 채용에서 지원자는 지원서 작성 시 아래와 같이 4가지 항목을 반드시 선택하도록 하였습니다.\n",
    "코딩테스트 참여 개발언어 항목에 cpp, java, python 중 하나를 선택해야 합니다.\n",
    "지원 직군 항목에 backend와 frontend 중 하나를 선택해야 합니다.\n",
    "지원 경력구분 항목에 junior와 senior 중 하나를 선택해야 합니다.\n",
    "선호하는 소울푸드로 chicken과 pizza 중 하나를 선택해야 합니다.\n",
    "인재영입팀에 근무하고 있는 니니즈는 코딩테스트 결과를 분석하여 채용에 참여한 개발팀들에 제공하기 위해 지원자들의 지원 조건을 선택하면 해당 조건에 맞는 지원자가 몇 명인 지 쉽게 알 수 있는 도구를 만들고 있습니다.\n",
    "예를 들어, 개발팀에서 궁금해하는 문의사항은 다음과 같은 형태가 될 수 있습니다.\n",
    "코딩테스트에 java로 참여했으며, backend 직군을 선택했고, junior 경력이면서, 소울푸드로 pizza를 선택한 사람 중 코딩테스트 점수를 50점 이상 받은 지원자는 몇 명인가?\n",
    "물론 이 외에도 각 개발팀의 상황에 따라 아래와 같이 다양한 형태의 문의가 있을 수 있습니다.\n",
    "코딩테스트에 python으로 참여했으며, frontend 직군을 선택했고, senior 경력이면서, 소울푸드로 chicken을 선택한 사람 중 코딩테스트 점수를 100점 이상 받은 사람은 모두 몇 명인가?\n",
    "코딩테스트에 cpp로 참여했으며, senior 경력이면서, 소울푸드로 pizza를 선택한 사람 중 코딩테스트 점수를 100점 이상 받은 사람은 모두 몇 명인가?\n",
    "backend 직군을 선택했고, senior 경력이면서 코딩테스트 점수를 200점 이상 받은 사람은 모두 몇 명인가?\n",
    "소울푸드로 chicken을 선택한 사람 중 코딩테스트 점수를 250점 이상 받은 사람은 모두 몇 명인가?\n",
    "코딩테스트 점수를 150점 이상 받은 사람은 모두 몇 명인가?\n",
    "즉, 개발팀에서 궁금해하는 내용은 다음과 같은 형태를 갖습니다.\n",
    "* [조건]을 만족하는 사람 중 코딩테스트 점수를 X점 이상 받은 사람은 모두 몇 명인가?\n",
    "[문제]\n",
    "지원자가 지원서에 입력한 4가지의 정보와 획득한 코딩테스트 점수를 하나의 문자열로 구성한 값의 배열 info, 개발팀이 궁금해하는 문의조건이 문자열 형태로 담긴 배열 query가 매개변수로 주어질 때,\n",
    "각 문의조건에 해당하는 사람들의 숫자를 순서대로 배열에 담아 return 하도록 solution 함수를 완성해 주세요.\n",
    "[제한사항]\n",
    "info 배열의 크기는 1 이상 50,000 이하입니다.\n",
    "info 배열 각 원소의 값은 지원자가 지원서에 입력한 4가지 값과 코딩테스트 점수를 합친 \"개발언어 직군 경력 소울푸드 점수\" 형식입니다.\n",
    "개발언어는 cpp, java, python 중 하나입니다.\n",
    "직군은 backend, frontend 중 하나입니다.\n",
    "경력은 junior, senior 중 하나입니다.\n",
    "소울푸드는 chicken, pizza 중 하나입니다.\n",
    "점수는 코딩테스트 점수를 의미하며, 1 이상 100,000 이하인 자연수입니다.\n",
    "각 단어는 공백문자(스페이스 바) 하나로 구분되어 있습니다.\n",
    "query 배열의 크기는 1 이상 100,000 이하입니다.\n",
    "query의 각 문자열은 \"[조건] X\" 형식입니다.\n",
    "[조건]은 \"개발언어 and 직군 and 경력 and 소울푸드\" 형식의 문자열입니다.\n",
    "언어는 cpp, java, python, - 중 하나입니다.\n",
    "직군은 backend, frontend, - 중 하나입니다.\n",
    "경력은 junior, senior, - 중 하나입니다.\n",
    "소울푸드는 chicken, pizza, - 중 하나입니다.\n",
    "'-' 표시는 해당 조건을 고려하지 않겠다는 의미입니다.\n",
    "X는 코딩테스트 점수를 의미하며 조건을 만족하는 사람 중 X점 이상 받은 사람은 모두 몇 명인 지를 의미합니다.\n",
    "각 단어는 공백문자(스페이스 바) 하나로 구분되어 있습니다.\n",
    "예를 들면, \"cpp and - and senior and pizza 500\"은 \"cpp로 코딩테스트를 봤으며, 경력은 senior 이면서 소울푸드로 pizza를 선택한 지원자 중 코딩테스트 점수를 500점 이상 받은 사람은 모두 몇 명인가?\"를 의미합니다.\n",
    "[입출력 예]\n",
    "info\tquery\tresult\n",
    "[\"java backend junior pizza 150\",\"python frontend senior chicken 210\",\"python frontend senior chicken 150\",\"cpp backend senior pizza 260\",\"java backend junior chicken 80\",\"python backend senior chicken 50\"]\t[\"java and backend and junior and pizza 100\",\"python and frontend and senior and chicken 200\",\"cpp and - and senior and pizza 250\",\"- and backend and senior and - 150\",\"- and - and - and chicken 100\",\"- and - and - and - 150\"]\t[1,1,1,1,2,4]\n",
    "입출력 예에 대한 설명\n",
    "지원자 정보를 표로 나타내면 다음과 같습니다.\n",
    "언어\t직군\t경력\t소울 푸드\t점수\n",
    "java\tbackend\tjunior\tpizza\t150\n",
    "python\tfrontend\tsenior\tchicken\t210\n",
    "python\tfrontend\tsenior\tchicken\t150\n",
    "cpp\tbackend\tsenior\tpizza\t260\n",
    "java\tbackend\tjunior\tchicken\t80\n",
    "python\tbackend\tsenior\tchicken\t50\n",
    "\"java and backend and junior and pizza 100\" : java로 코딩테스트를 봤으며, backend 직군을 선택했고 junior 경력이면서 소울푸드로 pizza를 선택한 지원자 중 코딩테스트 점수를 100점 이상 받은 지원자는 1명 입니다.\n",
    "\"python and frontend and senior and chicken 200\" : python으로 코딩테스트를 봤으며, frontend 직군을 선택했고, senior 경력이면서 소울 푸드로 chicken을 선택한 지원자 중 코딩테스트 점수를 200점 이상 받은 지원자는 1명 입니다.\n",
    "\"cpp and - and senior and pizza 250\" : cpp로 코딩테스트를 봤으며, senior 경력이면서 소울푸드로 pizza를 선택한 지원자 중 코딩테스트 점수를 250점 이상 받은 지원자는 1명 입니다.\n",
    "\"- and backend and senior and - 150\" : backend 직군을 선택했고, senior 경력인 지원자 중 코딩테스트 점수를 150점 이상 받은 지원자는 1명 입니다.\n",
    "\"- and - and - and chicken 100\" : 소울푸드로 chicken을 선택한 지원자 중 코딩테스트 점수를 100점 이상을 받은 지원자는 2명 입니다.\n",
    "\"- and - and - and - 150\" : 코딩테스트 점수를 150점 이상 받은 지원자는 4명 입니다."
   ]
  },
  {
   "cell_type": "code",
   "execution_count": 142,
   "metadata": {},
   "outputs": [],
   "source": [
    "info = [\"java backend junior pizza 150\",\"python frontend senior chicken 210\",\"python frontend senior chicken 150\",\"cpp backend senior pizza 260\",\"java backend junior chicken 80\",\"python backend senior chicken 50\"]\n",
    "query = [\"java and backend and junior and pizza 100\",\n",
    "         \"python and frontend and senior and chicken 200\",\n",
    "         \"cpp and - and senior and pizza 250\",\n",
    "         \"- and backend and senior and - 150\",\n",
    "         \"- and - and - and chicken 100\",\n",
    "         \"- and - and - and - 150\"]"
   ]
  },
  {
   "cell_type": "code",
   "execution_count": 125,
   "metadata": {},
   "outputs": [],
   "source": [
    "query = [\"- and backend and senior and - 150\",\n",
    "         \"- and - and - and chicken 100\",\n",
    "         \"- and - and - and - 150\"\n",
    "         ]"
   ]
  },
  {
   "cell_type": "code",
   "execution_count": 143,
   "metadata": {},
   "outputs": [
    {
     "data": {
      "text/plain": [
       "[['java', 'backend', 'junior', 'pizza', '100'],\n",
       " ['python', 'frontend', 'senior', 'chicken', '200'],\n",
       " ['cpp', '-', 'senior', 'pizza', '250'],\n",
       " ['-', 'backend', 'senior', '-', '150'],\n",
       " ['-', '-', '-', 'chicken', '100'],\n",
       " ['-', '-', '-', '-', '150']]"
      ]
     },
     "execution_count": 143,
     "metadata": {},
     "output_type": "execute_result"
    }
   ],
   "source": [
    "q_list = []\n",
    "for i in query:\n",
    "    i = i.replace('and','')\n",
    "    q_list.append(i.split())\n",
    "q_list"
   ]
  },
  {
   "cell_type": "code",
   "execution_count": 144,
   "metadata": {},
   "outputs": [
    {
     "data": {
      "text/plain": [
       "[['java', 'backend', 'junior', 'pizza', '150'],\n",
       " ['python', 'frontend', 'senior', 'chicken', '210'],\n",
       " ['python', 'frontend', 'senior', 'chicken', '150'],\n",
       " ['cpp', 'backend', 'senior', 'pizza', '260'],\n",
       " ['java', 'backend', 'junior', 'chicken', '80'],\n",
       " ['python', 'backend', 'senior', 'chicken', '50']]"
      ]
     },
     "execution_count": 144,
     "metadata": {},
     "output_type": "execute_result"
    }
   ],
   "source": [
    "info_list = []\n",
    "for i in info:\n",
    "    info_list.append(i.split())\n",
    "info_list"
   ]
  },
  {
   "cell_type": "code",
   "execution_count": 148,
   "metadata": {},
   "outputs": [
    {
     "name": "stdout",
     "output_type": "stream",
     "text": [
      "[1]\n",
      "[0, 3]\n",
      "[0, 1, 2]\n",
      "[0, 1, 2, 3]\n"
     ]
    },
    {
     "data": {
      "text/plain": [
       "[1, 1, 1, 1, 2, 4]"
      ]
     },
     "execution_count": 148,
     "metadata": {},
     "output_type": "execute_result"
    }
   ],
   "source": [
    "import copy\n",
    "answer = []\n",
    "for i in q_list:\n",
    "    count = 0\n",
    "    if '-' in i:\n",
    "        # 마스크 인덱스 생성\n",
    "        mask = [idx for idx, val in enumerate(i) if val == '-']\n",
    "        print(mask)\n",
    "        \n",
    "        for j in info_list:\n",
    "            temp = copy.deepcopy(j)\n",
    "            \n",
    "            for k in mask:\n",
    "#                 # 마스크 인덱스를 똑같이 '-'로 대체함\n",
    "                temp[k] = '-'\n",
    "    #         print(j)\n",
    "    #         print(temp)\n",
    "\n",
    "            if i[:-1] == temp[:-1] and int(i[-1]) <= int(temp[-1]):\n",
    "                count += 1\n",
    "\n",
    "    else:\n",
    "        for j in info_list:\n",
    "            if i[:-1] == j[:-1] and int(i[-1]) <= int(j[-1]):\n",
    "                count += 1\n",
    "#     for j in info_list:\n",
    "#         temp = copy.deepcopy(j)\n",
    "#         if len(mask) != 0:\n",
    "#             for k in mask:\n",
    "# #                 # 마스크 인덱스를 똑같이 '-'로 대체함\n",
    "#                 temp[k] = '-'\n",
    "# #         print(j)\n",
    "# #         print(temp)\n",
    "        \n",
    "#             if i[:-1] == temp[:-1] and int(i[-1]) <= int(temp[-1]):\n",
    "#                 count += 1\n",
    "#         else:\n",
    "#             if i[:-1] == temp[:-1] and int(i[-1]) <= int(temp[-1]):\n",
    "#                 count += 1\n",
    "        \n",
    "    answer.append(count)\n",
    "answer"
   ]
  },
  {
   "cell_type": "code",
   "execution_count": 151,
   "metadata": {},
   "outputs": [],
   "source": [
    "##### 정확성 통과\n",
    "\n",
    "import copy\n",
    "\n",
    "def solution(info, query):\n",
    "    answer = []\n",
    "    \n",
    "    q_list = []\n",
    "    for i in query:\n",
    "        i = i.replace('and','')\n",
    "        q_list.append(i.split())\n",
    "    \n",
    "    info_list = []\n",
    "    for i in info:\n",
    "        info_list.append(i.split())\n",
    "\n",
    "    for i in q_list:\n",
    "        count = 0\n",
    "        if '-' in i:\n",
    "            # 마스크 인덱스 생성\n",
    "            mask = [idx for idx, val in enumerate(i) if val == '-']\n",
    "#             print(mask)\n",
    "\n",
    "            for j in info_list:\n",
    "                temp = copy.deepcopy(j)\n",
    "\n",
    "                for k in mask:\n",
    "    #                 # 마스크 인덱스를 똑같이 '-'로 대체함\n",
    "                    temp[k] = '-'\n",
    "        #         print(j)\n",
    "        #         print(temp)\n",
    "\n",
    "                if i[:-1] == temp[:-1] and int(i[-1]) <= int(temp[-1]):\n",
    "                    count += 1\n",
    "\n",
    "        else:\n",
    "            for j in info_list:\n",
    "                if i[:-1] == j[:-1] and int(i[-1]) <= int(j[-1]):\n",
    "                    count += 1\n",
    "\n",
    "        answer.append(count)\n",
    "    \n",
    "    return answer"
   ]
  },
  {
   "cell_type": "code",
   "execution_count": 152,
   "metadata": {},
   "outputs": [
    {
     "data": {
      "text/plain": [
       "[1, 1, 1, 1, 2, 4]"
      ]
     },
     "execution_count": 152,
     "metadata": {},
     "output_type": "execute_result"
    }
   ],
   "source": [
    "solution(info, query)"
   ]
  },
  {
   "cell_type": "markdown",
   "metadata": {},
   "source": [
    "## 효율성 해결 위해서 딕셔너리 사용해야 함..\n",
    "- 지원자의 정보를 parsing 할 때, 지원자의 16가지 조건을 구한다. 점수를 제외한 4개의 정보에 대해서 '-' 조합 구함\n",
    "- 지원자의 정보를 applicant 라는 딕셔너리에 key는 16가지 조건('-'제외한 문자열), value는 score로(점수) 저장함.\n",
    "- 같은 key일 경우, 기존 value에 append 한다 (defaultdict(list)) \n",
    "\n",
    "## 효율성 해결 위해서 applicant에 저장된 value(점수) 오름차순 정렬.\n",
    "- 조건으로 주어진 점수보다 큰 지원자의 수를 구할 때 이분 탐색으로 구하고자 함.\n",
    "\n",
    "## 효율성 해결 위해서 이진 탐색으로 주어진 조건의 점수보다 큰 지원자의 수를 구함.\n",
    "- 점수를 제외한 4가지 조건을 만족하는 지원자가 없을 때, applicant에서 해당 key가 존재하지 않음. 그렇기 때문에 조건의 key가 applicant의 key에 존재하는지 확인하고 구해야함."
   ]
  },
  {
   "cell_type": "code",
   "execution_count": null,
   "metadata": {},
   "outputs": [],
   "source": [
    "from collections import defaultdict\n",
    "from itertools import combinations\n",
    "\n",
    "def solution(info, query):\n",
    "    answer = []\n",
    "    \n",
    "    # 1. 지원자 정보 parsing\n",
    "    applicant = defaultdict(list)\n",
    "    \n",
    "    for x in info:\n",
    "        x = x.split()\n",
    "        key_list = x[:-1]\n",
    "        score = int(x[-1])\n",
    "        \n",
    "        # 1-1. 점수를 제외한 4가지 항목에 대해서 '-' 일수도 있는 16가지 경우 구함\n",
    "        for i in range(5):\n",
    "            for c in combinations(key_list, i):\n",
    "                key = ''.join(c)\n",
    "                applicant[key].append(score)\n",
    "                \n",
    "    # 2. applicant의 key에 따른 value 정렬 (점수 정렬)\n",
    "    for key in applicant.keys():\n",
    "        applicant[key].sort()\n",
    "        \n",
    "    # 3. 조건 parsing\n",
    "    for x in query:\n",
    "        q = []\n",
    "        x = x.split(' ')\n",
    "        \n",
    "        # 3-1. 'and', '-' 제외 (지원자 정보 리스트에 이미 and, -는 없기 때문에 쿼리에서도 없애준다)\n",
    "        for y in x:\n",
    "            if y != 'and' and y != '-':\n",
    "                q.append(y)\n",
    "        \n",
    "        key = ''.join(q[:-1])\n",
    "        score = int(q[-1])\n",
    "        \n",
    "        # 3-2. 이진 탐색으로 조건에 해당하는 지원자 수 구하기\n",
    "        count = 0\n",
    "        \n",
    "        if key in applicant.keys(): # 해당 조건의 지원자가 있는지 확인\n",
    "            value = applicant[key]\n",
    "            start, end = 0, len(value) # score 값은 같은 조건에 대해서 리스트로 만들었으니까.\n",
    "            \n",
    "            while start <= end and start < len(value):\n",
    "                mid = (start + end) // 2\n",
    "                \n",
    "                if value[mid] < score:\n",
    "                    start = mid + 1\n",
    "                else:\n",
    "                    end = mid -1\n",
    "            \n",
    "            count = len(value) - start\n",
    "        answer.append(count)\n",
    "    return answer"
   ]
  }
 ],
 "metadata": {
  "kernelspec": {
   "display_name": "Python 3",
   "language": "python",
   "name": "python3"
  },
  "language_info": {
   "codemirror_mode": {
    "name": "ipython",
    "version": 3
   },
   "file_extension": ".py",
   "mimetype": "text/x-python",
   "name": "python",
   "nbconvert_exporter": "python",
   "pygments_lexer": "ipython3",
   "version": "3.7.6"
  }
 },
 "nbformat": 4,
 "nbformat_minor": 4
}
