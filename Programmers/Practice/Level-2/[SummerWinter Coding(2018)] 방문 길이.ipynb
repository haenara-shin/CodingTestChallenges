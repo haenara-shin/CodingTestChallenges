{
 "cells": [
  {
   "cell_type": "markdown",
   "metadata": {},
   "source": [
    "게임 캐릭터를 4가지 명령어를 통해 움직이려 합니다. 명령어는 다음과 같습니다.\n",
    "U: 위쪽으로 한 칸 가기\n",
    "D: 아래쪽으로 한 칸 가기\n",
    "R: 오른쪽으로 한 칸 가기\n",
    "L: 왼쪽으로 한 칸 가기\n",
    "캐릭터는 좌표평면의 (0, 0) 위치에서 시작합니다. 좌표평면의 경계는 왼쪽 위(-5, 5), 왼쪽 아래(-5, -5), 오른쪽 위(5, 5), 오른쪽 아래(5, -5)로 이루어져 있습니다.\n",
    "방문길이1_qpp9l3.png\n",
    "예를 들어, \"ULURRDLLU\"로 명령했다면\n",
    "방문길이2_lezmdo.png\n",
    "1번 명령어부터 7번 명령어까지 다음과 같이 움직입니다.\n",
    "방문길이3_sootjd.png\n",
    "8번 명령어부터 9번 명령어까지 다음과 같이 움직입니다.\n",
    "방문길이4_hlpiej.png\n",
    "이때, 우리는 게임 캐릭터가 지나간 길 중 캐릭터가 처음 걸어본 길의 길이를 구하려고 합니다. 예를 들어 위의 예시에서 게임 캐릭터가 움직인 길이는 9이지만, 캐릭터가 처음 걸어본 길의 길이는 7이 됩니다. (8, 9번 명령어에서 움직인 길은 2, 3번 명령어에서 이미 거쳐 간 길입니다)\n",
    "단, 좌표평면의 경계를 넘어가는 명령어는 무시합니다.\n",
    "예를 들어, \"LULLLLLLU\"로 명령했다면\n",
    "방문길이5_nitjwj.png\n",
    "1번 명령어부터 6번 명령어대로 움직인 후, 7, 8번 명령어는 무시합니다. 다시 9번 명령어대로 움직입니다.\n",
    "방문길이6_nzhumd.png\n",
    "이때 캐릭터가 처음 걸어본 길의 길이는 7이 됩니다.\n",
    "명령어가 매개변수 dirs로 주어질 때, 게임 캐릭터가 처음 걸어본 길의 길이를 구하여 return 하는 solution 함수를 완성해 주세요.\n",
    "제한사항\n",
    "dirs는 string형으로 주어지며, 'U', 'D', 'R', 'L' 이외에 문자는 주어지지 않습니다.\n",
    "dirs의 길이는 500 이하의 자연수입니다.\n",
    "입출력 예\n",
    "dirs\tanswer\n",
    "\"ULURRDLLU\"\t7\n",
    "\"LULLLLLLU\"\t7\n",
    "입출력 예 설명\n",
    "입출력 예 #1\n",
    "문제의 예시와 같습니다.\n",
    "입출력 예 #2\n",
    "문제의 예시와 같습니다."
   ]
  },
  {
   "cell_type": "code",
   "execution_count": 30,
   "metadata": {},
   "outputs": [],
   "source": [
    "dirs = \"LULLLLLLU\"\n",
    "dirs_2 = \"ULURRDLLU\"\n",
    "dirs_3 = 'UDU'\n",
    "answer = 7"
   ]
  },
  {
   "cell_type": "code",
   "execution_count": 23,
   "metadata": {},
   "outputs": [
    {
     "name": "stdout",
     "output_type": "stream",
     "text": [
      "[[-1, 0], [-1, 1], [-2, 1], [-3, 1], [-4, 1], [-5, 1], [-5, 2]]\n",
      "7\n"
     ]
    },
    {
     "data": {
      "text/plain": [
       "7"
      ]
     },
     "execution_count": 23,
     "metadata": {},
     "output_type": "execute_result"
    }
   ],
   "source": [
    "mov_dic = {'U':[0,1],\n",
    "           'D':[0,-1],\n",
    "           'R':[1,0],\n",
    "           'L':[-1,0]}\n",
    "\n",
    "position = []\n",
    "\n",
    "x,y = 0,0\n",
    "count = 0\n",
    "\n",
    "for i in dirs:\n",
    "    dx, dy = mov_dic[i]\n",
    "    nx = x + dx\n",
    "    ny = y + dy\n",
    "    if -5 <= nx <= 5 and -5 <= ny <= 5:\n",
    "        count += 1\n",
    "        position.append([nx,ny])\n",
    "        x = nx\n",
    "        y = ny\n",
    "\n",
    "print(position)\n",
    "print(count)\n",
    "len(set(map(tuple,position)))"
   ]
  },
  {
   "cell_type": "code",
   "execution_count": 26,
   "metadata": {},
   "outputs": [
    {
     "name": "stdout",
     "output_type": "stream",
     "text": [
      "[[0, 1], [-1, 1], [-1, 2], [0, 2], [1, 2], [1, 1], [0, 1], [-1, 1], [-1, 2]]\n",
      "9\n",
      "7\n"
     ]
    }
   ],
   "source": [
    "mov_dic = {'U':[0,1],\n",
    "           'D':[0,-1],\n",
    "           'R':[1,0],\n",
    "           'L':[-1,0]}\n",
    "\n",
    "position = []\n",
    "\n",
    "x,y = 0,0\n",
    "count = 0\n",
    "\n",
    "for i in dirs_2:\n",
    "    dx, dy = mov_dic[i]\n",
    "    nx = x + dx\n",
    "    ny = y + dy\n",
    "    if -5 <= nx <= 5 and -5 <= ny <= 5:\n",
    "        count += 1\n",
    "        position.append([nx,ny])\n",
    "        x = nx\n",
    "        y = ny\n",
    "\n",
    "print(position)\n",
    "print(count)\n",
    "if len(set(map(tuple,position))) != count:\n",
    "    print(len(set(map(tuple,position)))+1)\n",
    "else:\n",
    "    count"
   ]
  },
  {
   "cell_type": "code",
   "execution_count": 32,
   "metadata": {},
   "outputs": [
    {
     "name": "stdout",
     "output_type": "stream",
     "text": [
      "[[0, 1], [0, 0], [0, 1]]\n",
      "3\n",
      "3\n"
     ]
    }
   ],
   "source": [
    "mov_dic = {'U':[0,1],\n",
    "           'D':[0,-1],\n",
    "           'R':[1,0],\n",
    "           'L':[-1,0]}\n",
    "\n",
    "position = []\n",
    "\n",
    "x,y = 0,0\n",
    "count = 0\n",
    "\n",
    "for i in dirs_3:\n",
    "    dx, dy = mov_dic[i]\n",
    "    nx = x + dx\n",
    "    ny = y + dy\n",
    "    if -5 <= nx <= 5 and -5 <= ny <= 5:\n",
    "        count += 1\n",
    "        position.append([nx,ny])\n",
    "        x = nx\n",
    "        y = ny\n",
    "\n",
    "print(position)\n",
    "print(count)\n",
    "if len(set(map(tuple,position))) != count:\n",
    "    print(len(set(map(tuple,position)))+1)\n",
    "else:\n",
    "    count"
   ]
  },
  {
   "cell_type": "code",
   "execution_count": 31,
   "metadata": {},
   "outputs": [],
   "source": [
    "def solution(dirs):\n",
    "    \n",
    "    mov_dic = {'U':[0,1],\n",
    "           'D':[0,-1],\n",
    "           'R':[1,0],\n",
    "           'L':[-1,0]}\n",
    "    \n",
    "    position = []\n",
    "\n",
    "    x,y = 0,0\n",
    "    count = 0\n",
    "    \n",
    "    for i in dirs:\n",
    "        dx, dy = mov_dic[i]\n",
    "        nx = x + dx\n",
    "        ny = y + dy\n",
    "        if -5 <= nx <= 5 and -5 <= ny <= 5:\n",
    "            count += 1\n",
    "            position.append([nx,ny])\n",
    "            x = nx\n",
    "            y = ny\n",
    "    \n",
    "    if len(set(map(tuple,position))) != count:\n",
    "        return (len(set(map(tuple,position)))+1)\n",
    "    else:\n",
    "        return count"
   ]
  },
  {
   "cell_type": "code",
   "execution_count": 28,
   "metadata": {},
   "outputs": [
    {
     "data": {
      "text/plain": [
       "3"
      ]
     },
     "execution_count": 28,
     "metadata": {},
     "output_type": "execute_result"
    }
   ],
   "source": [
    "solution('UDU')"
   ]
  },
  {
   "cell_type": "code",
   "execution_count": null,
   "metadata": {},
   "outputs": [],
   "source": [
    "def solution(dirs):\n",
    "    command = {'U':(0, 1), 'D':(0, -1), 'L':(-1, 0), 'R':(1, 0)}\n",
    "    road = set()\n",
    "    cur_x, cur_y = (0,0)\n",
    "    \n",
    "    for d in dirs:\n",
    "        next_x, next_y = cur_x + command[d][0], cur_y + command[d][1]\n",
    "        if -5<= next_x <=5 and -5<= next_y <=5:\n",
    "            road.add((cur_x, cur_y, next_x, next_y))\n",
    "            road.add((next_x, next_y, cur_x, cur_y))\n",
    "            cur_x, cur_y = next_x, next_y\n",
    "\n",
    "    return len(road) // 2"
   ]
  },
  {
   "cell_type": "code",
   "execution_count": 45,
   "metadata": {},
   "outputs": [
    {
     "name": "stdout",
     "output_type": "stream",
     "text": [
      "{(0, 0, 0, 1)}\n",
      "{(0, 0, 0, 1), (0, 1, 0, 0)}\n",
      "{(0, 0, 0, 1), (0, 1, 0, 0)}\n",
      "{(0, 0, 0, 1), (0, 1, 0, 0)}\n",
      "{(0, 0, 0, 1), (0, 1, 0, 0)}\n",
      "{(0, 0, 0, 1), (0, 1, 0, 0)}\n",
      "1\n"
     ]
    }
   ],
   "source": [
    "mov_dic = {'U':(0,1),\n",
    "           'D':(0,-1),\n",
    "           'R':(1,0),\n",
    "           'L':(-1,0)}\n",
    "path = set()\n",
    "cur_x, cur_y = 0,0\n",
    "\n",
    "for i in dirs_3:\n",
    "    next_x, next_y = cur_x + mov_dic[i][0], cur_y + mov_dic[i][1]\n",
    "    if -5 <= next_x <= 5 and -5 <= next_y <= 5:\n",
    "        path.add((cur_x, cur_y, next_x, next_y))\n",
    "        print(path)\n",
    "        path.add((next_x, next_y, cur_x, cur_y))\n",
    "        print(path)\n",
    "        cur_x, cur_y = next_x, next_y\n",
    "print(len(path)//2)"
   ]
  },
  {
   "cell_type": "code",
   "execution_count": null,
   "metadata": {},
   "outputs": [],
   "source": []
  }
 ],
 "metadata": {
  "kernelspec": {
   "display_name": "Python 3",
   "language": "python",
   "name": "python3"
  },
  "language_info": {
   "codemirror_mode": {
    "name": "ipython",
    "version": 3
   },
   "file_extension": ".py",
   "mimetype": "text/x-python",
   "name": "python",
   "nbconvert_exporter": "python",
   "pygments_lexer": "ipython3",
   "version": "3.7.6"
  }
 },
 "nbformat": 4,
 "nbformat_minor": 4
}
