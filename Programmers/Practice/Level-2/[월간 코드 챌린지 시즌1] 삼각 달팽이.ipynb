{
 "cells": [
  {
   "cell_type": "markdown",
   "metadata": {},
   "source": [
    "문제 설명\n",
    "\n",
    "정수 n이 매개변수로 주어집니다. 다음 그림과 같이 밑변의 길이와 높이가 n인 삼각형에서 맨 위 꼭짓점부터 반시계 방향으로 달팽이 채우기를 진행한 후, 첫 행부터 마지막 행까지 모두 순서대로 합친 새로운 배열을 return 하도록 solution 함수를 완성해주세요.\n",
    "examples.png\n",
    "제한사항\n",
    "n은 1 이상 1,000 이하입니다.\n",
    "입출력 예\n",
    "n\tresult\n",
    "4\t[1,2,9,3,10,8,4,5,6,7]\n",
    "5\t[1,2,12,3,13,11,4,14,15,10,5,6,7,8,9]\n",
    "6\t[1,2,15,3,16,14,4,17,21,13,5,18,19,20,12,6,7,8,9,10,11]\n",
    "입출력 예 설명\n",
    "입출력 예 #1\n",
    "문제 예시와 같습니다.\n",
    "입출력 예 #2\n",
    "문제 예시와 같습니다.\n",
    "입출력 예 #3\n",
    "문제 예시와 같습니다."
   ]
  },
  {
   "cell_type": "code",
   "execution_count": 1,
   "metadata": {},
   "outputs": [
    {
     "data": {
      "text/plain": [
       "[[0], [0, 0], [0, 0, 0], [0, 0, 0, 0]]"
      ]
     },
     "execution_count": 1,
     "metadata": {},
     "output_type": "execute_result"
    }
   ],
   "source": [
    "n = 4\n",
    "[[0 for j in range(1, i+1)] for i in range(1, n+1)]"
   ]
  },
  {
   "cell_type": "code",
   "execution_count": 16,
   "metadata": {},
   "outputs": [
    {
     "name": "stdout",
     "output_type": "stream",
     "text": [
      "0 0\n",
      "0 1\n",
      "0 2\n",
      "0 3\n",
      "1 1\n",
      "1 2\n",
      "1 3\n",
      "2 2\n",
      "2 3\n",
      "3 3\n"
     ]
    }
   ],
   "source": [
    "for i in range(4):\n",
    "    for j in range(i, 4):\n",
    "        print(i, j)"
   ]
  },
  {
   "cell_type": "code",
   "execution_count": 14,
   "metadata": {},
   "outputs": [
    {
     "data": {
      "text/plain": [
       "[1, 2, 9, 3, 10, 8, 4, 5, 6, 7]"
      ]
     },
     "execution_count": 14,
     "metadata": {},
     "output_type": "execute_result"
    }
   ],
   "source": [
    "def solution(n):\n",
    "    answer = [[0 for j in range(1, i+1)] for i in range(1, n+1)]\n",
    "    x, y = -1, 0\n",
    "    num = 1\n",
    "    \n",
    "    for i in range(n): # 방향\n",
    "        for _ in range(i, n): # 좌표\n",
    "            if i % 3 == 0: # down\n",
    "                x += 1\n",
    "            elif i % 3 == 1: # right\n",
    "                y += 1\n",
    "            else:   # up\n",
    "                x -= 1\n",
    "                y -= 1\n",
    "            answer[x][y] = num\n",
    "            num += 1\n",
    "    return sum(answer,[])\n",
    "solution(4)"
   ]
  }
 ],
 "metadata": {
  "kernelspec": {
   "display_name": "Python 3",
   "language": "python",
   "name": "python3"
  },
  "language_info": {
   "codemirror_mode": {
    "name": "ipython",
    "version": 3
   },
   "file_extension": ".py",
   "mimetype": "text/x-python",
   "name": "python",
   "nbconvert_exporter": "python",
   "pygments_lexer": "ipython3",
   "version": "3.7.6"
  }
 },
 "nbformat": 4,
 "nbformat_minor": 4
}
