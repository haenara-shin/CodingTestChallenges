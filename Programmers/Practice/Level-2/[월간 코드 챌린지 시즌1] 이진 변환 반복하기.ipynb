{
 "cells": [
  {
   "cell_type": "code",
   "execution_count": null,
   "metadata": {},
   "outputs": [],
   "source": [
    "0과 1로 이루어진 어떤 문자열 x에 대한 이진 변환을 다음과 같이 정의합니다.\n",
    "x의 모든 0을 제거합니다.\n",
    "x의 길이를 c라고 하면, x를 \"c를 2진법으로 표현한 문자열\"로 바꿉니다.\n",
    "예를 들어, x = \"0111010\"이라면, x에 이진 변환을 가하면 x = \"0111010\" -> \"1111\" -> \"100\" 이 됩니다.\n",
    "0과 1로 이루어진 문자열 s가 매개변수로 주어집니다. s가 \"1\"이 될 때까지 계속해서 s에 이진 변환을 가했을 때, 이진 변환의 횟수와 변환 과정에서 제거된 모든 0의 개수를 각각 배열에 담아 return 하도록 solution 함수를 완성해주세요.\n",
    "제한사항\n",
    "s의 길이는 1 이상 150,000 이하입니다.\n",
    "s에는 '1'이 최소 하나 이상 포함되어 있습니다.\n",
    "입출력 예\n",
    "s\tresult\n",
    "\"110010101001\"\t[3,8]\n",
    "\"01110\"\t[3,3]\n",
    "\"1111111\"\t[4,1]\n",
    "입출력 예 설명\n",
    "입출력 예 #1\n",
    "\"110010101001\"이 \"1\"이 될 때까지 이진 변환을 가하는 과정은 다음과 같습니다.\n",
    "회차\t이진 변환 이전\t제거할 0의 개수\t0 제거 후 길이\t이진 변환 결과\n",
    "1\t\"110010101001\"\t6\t6\t\"110\"\n",
    "2\t\"110\"\t1\t2\t\"10\"\n",
    "3\t\"10\"\t1\t1\t\"1\"\n",
    "3번의 이진 변환을 하는 동안 8개의 0을 제거했으므로, [3,8]을 return 해야 합니다.\n",
    "입출력 예 #2\n",
    "\"01110\"이 \"1\"이 될 때까지 이진 변환을 가하는 과정은 다음과 같습니다.\n",
    "회차\t이진 변환 이전\t제거할 0의 개수\t0 제거 후 길이\t이진 변환 결과\n",
    "1\t\"01110\"\t2\t3\t\"11\"\n",
    "2\t\"11\"\t0\t2\t\"10\"\n",
    "3\t\"10\"\t1\t1\t\"1\"\n",
    "3번의 이진 변환을 하는 동안 3개의 0을 제거했으므로, [3,3]을 return 해야 합니다.\n",
    "입출력 예 #3\n",
    "\"1111111\"이 \"1\"이 될 때까지 이진 변환을 가하는 과정은 다음과 같습니다.\n",
    "회차\t이진 변환 이전\t제거할 0의 개수\t0 제거 후 길이\t이진 변환 결과\n",
    "1\t\"1111111\"\t0\t7\t\"111\"\n",
    "2\t\"111\"\t0\t3\t\"11\"\n",
    "3\t\"11\"\t0\t2\t\"10\"\n",
    "4\t\"10\"\t1\t1\t\"1\"\n",
    "4번의 이진 변환을 하는 동안 1개의 0을 제거했으므로, [4,1]을 return 해야 합니다."
   ]
  },
  {
   "cell_type": "code",
   "execution_count": 22,
   "metadata": {},
   "outputs": [],
   "source": [
    "s = \"1111111\"\n",
    "result = []"
   ]
  },
  {
   "cell_type": "code",
   "execution_count": 16,
   "metadata": {},
   "outputs": [
    {
     "data": {
      "text/plain": [
       "'111111'"
      ]
     },
     "execution_count": 16,
     "metadata": {},
     "output_type": "execute_result"
    }
   ],
   "source": [
    "s = s.replace('0','')\n",
    "s"
   ]
  },
  {
   "cell_type": "code",
   "execution_count": 17,
   "metadata": {},
   "outputs": [
    {
     "data": {
      "text/plain": [
       "'110'"
      ]
     },
     "execution_count": 17,
     "metadata": {},
     "output_type": "execute_result"
    }
   ],
   "source": [
    "length_s = len(s)\n",
    "s = format(length_s, 'b')\n",
    "s"
   ]
  },
  {
   "cell_type": "code",
   "execution_count": 23,
   "metadata": {},
   "outputs": [
    {
     "data": {
      "text/plain": [
       "[4, 1]"
      ]
     },
     "execution_count": 23,
     "metadata": {},
     "output_type": "execute_result"
    }
   ],
   "source": [
    "def test(s):\n",
    "    zero_count = 0\n",
    "    bi_transform_count = 0\n",
    "    \n",
    "    if s == '1':\n",
    "        return [0,0]\n",
    "    \n",
    "    while s != '1':\n",
    "        zero_count += s.count('0')\n",
    "        s = s.replace('0','')\n",
    "        length_s = len(s)\n",
    "        s = format(length_s,'b')\n",
    "        bi_transform_count += 1\n",
    "    return [bi_transform_count, zero_count]\n",
    "\n",
    "test(s)"
   ]
  },
  {
   "cell_type": "code",
   "execution_count": null,
   "metadata": {},
   "outputs": [],
   "source": [
    "def solution(s):\n",
    "    z_count = 0\n",
    "    bi_count = 0\n",
    "    \n",
    "    if s == '1':\n",
    "        return [0,0]\n",
    "    \n",
    "    while s != '1':\n",
    "        z_count += s.count('0')\n",
    "        s = s.replace('0','')\n",
    "        len_s = len(s)\n",
    "        s = format(len_s,'b')\n",
    "        bi_count += 1\n",
    "        \n",
    "    return [bi_count, z_count]"
   ]
  }
 ],
 "metadata": {
  "kernelspec": {
   "display_name": "Python 3",
   "language": "python",
   "name": "python3"
  },
  "language_info": {
   "codemirror_mode": {
    "name": "ipython",
    "version": 3
   },
   "file_extension": ".py",
   "mimetype": "text/x-python",
   "name": "python",
   "nbconvert_exporter": "python",
   "pygments_lexer": "ipython3",
   "version": "3.7.6"
  }
 },
 "nbformat": 4,
 "nbformat_minor": 4
}
