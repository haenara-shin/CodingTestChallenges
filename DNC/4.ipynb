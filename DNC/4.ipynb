{
 "cells": [
  {
   "cell_type": "code",
   "execution_count": null,
   "metadata": {},
   "outputs": [],
   "source": [
    "문제 설명\n",
    "숲속에 토끼가 살고 있습니다. 겁이 많은 토끼는 맹수의 습격을 피하기 위해 안전한 토끼굴로 도망치려고 합니다. 토끼와 토끼굴은 다음 그림과 같이 수직선 위에 표현할 수 있는데, 토끼는 항상 0의 위치에 있으며, 토끼굴은 n 만큼 떨어진 위치에 있습니다. 다음은 n = 9 인 경우의 예시입니다.\n",
    "\n",
    "image\n",
    "\n",
    "토끼는 수직선 위에서 움직이며, 항상 자연수 거리만큼 점프합니다. 또, 처음 점프한 방향으로만 계속해서 점프할 수 있습니다(즉, 방향을 바꿀 수 없습니다). 토끼는 처음 점프할 때는 어떤 거리든지 점프할 수 있는데, 첫 점프 이후에는 힘이 조금씩 빠지기 때문에 항상 이전에 점프 한 거리보다 짧게 점프합니다. 이때 토끼가 토끼굴에 k 번 점프해서 도착하는 방법의 가짓수를 구하려 합니다. 예를 들어 위 그림에서 토끼는 0의 위치에 있으며 토끼굴은 9 만큼 떨어진 위치에 있습니다. 이때, k = 3이라면, 토끼가 3번 점프해서 토끼굴에 도착하는 방법은 다음과 같이 세 가지가 있습니다.\n",
    "\n",
    "image\n",
    "\n",
    "처음에 6만큼 점프 후 다음에 2만큼 점프하고 마지막에 1만큼 점프합니다.\n",
    "처음에 5만큼 점프 후 다음에 3만큼 점프하고 마지막에 1만큼 점프합니다.\n",
    "처음에 4만큼 점프 후 다음에 3만큼 점프하고 마지막에 2만큼 점프합니다.\n",
    "토끼굴의 위치 n과 토끼의 점프 횟수 k가 매개변수로 주어질 때, 토끼가 k 번 점프해서 토끼굴에 도착하는 방법의 가짓수를 return 하도록 solution 함수를 완성해주세요. 단, 답이 커질 수 있으므로 정답을 1,000,000,007로 나눈 나머지를 return해주세요.\n",
    "\n",
    "제한사항\n",
    "n은 토끼굴의 위치를 나타내며, 1 이상 300 이하의 자연수입니다.\n",
    "k는 토끼가 점프하는 횟수를 나타내며, 1 이상 24 이하의 자연수입니다.\n",
    "정답을 1,000,000,007로 나눈 나머지를 return해주세요\n",
    "입출력 예\n",
    "n\tk\tresult\n",
    "9\t3\t3\n",
    "10\t2\t4\n",
    "9\t4\t0\n",
    "입출력 예 설명\n",
    "입출력 예 #1\n",
    "문제의 예시와 같습니다.\n",
    "\n",
    "입출력 예 #2\n",
    "다음과 같이 4가지가 가능합니다.\n",
    "\n",
    "처음에 9만큼 점프한 후 1만큼 점프합니다.\n",
    "처음에 8만큼 점프한 후 2만큼 점프합니다.\n",
    "처음에 7만큼 점프한 후 3만큼 점프합니다.\n",
    "처음에 6만큼 점프한 후 4만큼 점프합니다.\n",
    "처음에 5만큼 점프 한다면, 그 후에는 반드시 5보다 적게 점프해야 하므로 두 번 만에 10 위치에 도달할 수 없습니다. 따라서 가능한 방법은 4가지입니다.\n",
    "\n",
    "입출력 예 #3\n",
    "토끼가 네 번 점프해서 9 위치에 도착하는 방법은 없습니다."
   ]
  },
  {
   "cell_type": "code",
   "execution_count": 50,
   "metadata": {},
   "outputs": [
    {
     "data": {
      "text/plain": [
       "0"
      ]
     },
     "execution_count": 50,
     "metadata": {},
     "output_type": "execute_result"
    }
   ],
   "source": [
    "def solution(n, k):\n",
    "    start = (n // k) + 1\n",
    "    count = 0\n",
    "    \n",
    "    if (n//k) * k < n:\n",
    "        return 0\n",
    "    \n",
    "    for i in range(start, n):\n",
    "        poss_list = [j for j in range(1, i)]\n",
    "        if sum(poss_list[:k-1]) <= (n - i):\n",
    "            count += 1\n",
    "        else:\n",
    "            break\n",
    "    return count % 1000000007\n",
    "\n",
    "solution(9,4)"
   ]
  },
  {
   "cell_type": "code",
   "execution_count": 54,
   "metadata": {},
   "outputs": [
    {
     "data": {
      "text/plain": [
       "3"
      ]
     },
     "execution_count": 54,
     "metadata": {},
     "output_type": "execute_result"
    }
   ],
   "source": [
    "def solution(n, k):\n",
    "    start = (n // k) + 1\n",
    "    count = 0\n",
    "    \n",
    "    if (n//k) * k < n:\n",
    "        return 0\n",
    "    \n",
    "    dp = [i for i in range(1, n)]\n",
    "    \n",
    "    for i in range(start, n):\n",
    "        if sum(dp[:k-1]) <= (n - i):\n",
    "            count += 1\n",
    "        else:\n",
    "            break\n",
    "    return count % 1000000007\n",
    "\n",
    "solution(9,3)"
   ]
  },
  {
   "cell_type": "code",
   "execution_count": null,
   "metadata": {},
   "outputs": [],
   "source": []
  }
 ],
 "metadata": {
  "kernelspec": {
   "display_name": "Python 3",
   "language": "python",
   "name": "python3"
  },
  "language_info": {
   "codemirror_mode": {
    "name": "ipython",
    "version": 3
   },
   "file_extension": ".py",
   "mimetype": "text/x-python",
   "name": "python",
   "nbconvert_exporter": "python",
   "pygments_lexer": "ipython3",
   "version": "3.7.6"
  }
 },
 "nbformat": 4,
 "nbformat_minor": 4
}
