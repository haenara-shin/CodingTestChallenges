{
 "cells": [
  {
   "cell_type": "code",
   "execution_count": null,
   "metadata": {},
   "outputs": [],
   "source": [
    "문제 설명\n",
    "자연수로 이루어진 배열 numbers가 입력으로 주어집니다. 배열에서 과반수를 차지하는 숫자를 찾아 반환하도록 함수 solution을 완성해 주세요.\n",
    "\n",
    "만약 과반수를 차지하는 숫자가 없으면 -1을 반환해 주세요. 과반수를 차지하는 원소는 전체 n개의 원소 중 n/2개를 초과하는 원소를 말합니다.\n",
    "\n",
    "제한사항\n",
    "배열의 크기는 1이상 500,000이하의 자연수입니다.\n",
    "배열의 원소는 1이상 99이하의 자연수입니다.\n",
    "입출력 예\n",
    "numbers\tresult\n",
    "[6, 1, 6, 6, 7, 6, 6, 7]\t6\n",
    "[6, 1, 6, 6, 7, 5, 6, 7]\t-1\n",
    "입출력 예 설명\n",
    "입출력 예 #1\n",
    "배열이 [6, 1, 6, 6, 7, 6, 6, 7]이며 전체 8개의 원소 중 5개의 원소가 6으로 과반수를 차지하므로 6을 반환합니다.\n",
    "\n",
    "입출력 예 #2\n",
    "배열이 [6, 1, 6, 6, 7, 5, 6, 7]이며 전체 8개의 원소 중 4개의 원소가 6으로 과반수를 차지하지 않으므로 -1을 반환합니다.\n",
    "\n"
   ]
  },
  {
   "cell_type": "code",
   "execution_count": null,
   "metadata": {},
   "outputs": [],
   "source": [
    "def solution(numbers):\n",
    "    total_count = len(numbers)\n",
    "    \n",
    "    for i in numbers:\n",
    "        if numbers.count(i) > (total_count/2):\n",
    "            return i\n",
    "    \n",
    "    return -1"
   ]
  }
 ],
 "metadata": {
  "kernelspec": {
   "display_name": "Python 3",
   "language": "python",
   "name": "python3"
  },
  "language_info": {
   "codemirror_mode": {
    "name": "ipython",
    "version": 3
   },
   "file_extension": ".py",
   "mimetype": "text/x-python",
   "name": "python",
   "nbconvert_exporter": "python",
   "pygments_lexer": "ipython3",
   "version": "3.7.6"
  }
 },
 "nbformat": 4,
 "nbformat_minor": 4
}
