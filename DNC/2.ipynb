{
 "cells": [
  {
   "cell_type": "code",
   "execution_count": null,
   "metadata": {},
   "outputs": [],
   "source": [
    "문제 설명\n",
    "체스에서 비숍이라는 말은 대각선 방향으로 몇 칸이든 한 번에 이동할 수 있습니다. 8 x 8 크기 체스판에 비숍이 놓인 위치가 주어질 때, 비숍을 한 번 움직여서 이동할 수 없는 빈칸은 몇 개인지 구하려고 합니다.\n",
    "\n",
    "예를 들어, 체스판이 아래 그림과 같을 때 비숍을 한 번 움직여서 이동할 수 없는 빈칸은 52개입니다.\n",
    "\n",
    "bshop1.png\n",
    "\n",
    "말 기호: 비숍의 위치\n",
    "빨간 원: 비숍이 이동할 수 있는 빈칸\n",
    "\n",
    "8 x 8 체스판에 놓인 비숍의 위치 bishops가 매개변수로 주어질 때, 현재 비숍을 한 번 움직여서 이동할 수 없는 빈칸은 몇 개인지 return 하도록 solution 함수를 완성해주세요.\n",
    "\n",
    "제한 사항\n",
    "체스판에 놓인 비숍 수는 1개 이상 64개 이하입니다.\n",
    "비숍이 놓인 위치는 알파벳 대문자와 숫자로 표기합니다.\n",
    "비숍이 같은 칸에 있거나, 비숍의 위치가 체스판을 벗어나는 경우는 주어지지 않습니다.\n",
    "입출력 예\n",
    "bishops\treturn\n",
    "[\"C6\"]\t52\n",
    "[\"C6\", \"A4\", \"E5\"]\t35\n",
    "입출력 예 설명\n",
    "입출력 예 #1\n",
    "\n",
    "문제에 나온 예시와 같습니다.\n",
    "\n",
    "입출력 예 #2\n",
    "\n",
    "주어진 입력을 그림으로 표현하면 다음과 같습니다.\n",
    "\n",
    "bshop2.png\n",
    "\n",
    "이때 비숍이 이동할 수 없는 빈칸은 35개입니다."
   ]
  },
  {
   "cell_type": "code",
   "execution_count": 1,
   "metadata": {},
   "outputs": [
    {
     "data": {
      "text/plain": [
       "'C'"
      ]
     },
     "execution_count": 1,
     "metadata": {},
     "output_type": "execute_result"
    }
   ],
   "source": [
    "a = 'C6'\n",
    "a[0]"
   ]
  },
  {
   "cell_type": "code",
   "execution_count": 24,
   "metadata": {},
   "outputs": [
    {
     "data": {
      "text/plain": [
       "([(6, 6),\n",
       "  (7, 7),\n",
       "  (8, 8),\n",
       "  (5, 7),\n",
       "  (4, 8),\n",
       "  (7, 5),\n",
       "  (8, 4),\n",
       "  (5, 5),\n",
       "  (4, 4),\n",
       "  (3, 3),\n",
       "  (2, 2),\n",
       "  (1, 1),\n",
       "  (4, 8),\n",
       "  (5, 7),\n",
       "  (6, 6),\n",
       "  (7, 5),\n",
       "  (8, 4),\n",
       "  (3, 7),\n",
       "  (2, 6),\n",
       "  (1, 5),\n",
       "  (5, 4),\n",
       "  (6, 5),\n",
       "  (7, 6),\n",
       "  (8, 7),\n",
       "  (4, 5),\n",
       "  (3, 6),\n",
       "  (2, 7),\n",
       "  (1, 8),\n",
       "  (6, 3),\n",
       "  (7, 2),\n",
       "  (8, 1),\n",
       "  (4, 3),\n",
       "  (3, 2),\n",
       "  (2, 1)],\n",
       " 35)"
      ]
     },
     "execution_count": 24,
     "metadata": {},
     "output_type": "execute_result"
    }
   ],
   "source": [
    "# import copy\n",
    "def solution(bishops):\n",
    "    # x_axis = [i for i in range(1, 9)]\n",
    "    # y_axis = [i for i in range(1, 9)]\n",
    "#     count = len(bishops)\n",
    "    y_axis_dic = {'A':8, 'B':7, 'C':6, 'D':5,'E':4, 'F':3,'G':2, 'H':1}\n",
    "    \n",
    "    total_count = 64\n",
    "    result = []\n",
    "    for i in bishops:\n",
    "        y_position = y_axis_dic[i[0]]\n",
    "        x_position = int(i[1])\n",
    "        result.append((x_position, y_position))\n",
    "\n",
    "        \n",
    "        # +1, +1\n",
    "        for z in range(1, 9):\n",
    "            cur_x1 = x_position + z\n",
    "            cur_y1 = y_position + z\n",
    "            if 1<= cur_x1 <= 8 and 1<= cur_y1 <= 8:\n",
    "                result.append((cur_x1, cur_y1))\n",
    "            else:\n",
    "                break\n",
    "        \n",
    "        # -1, +1\n",
    "        for j in range(1, 9):\n",
    "            cur_x2 = x_position - j\n",
    "            cur_y2 = y_position + j\n",
    "            if 1<= cur_x2 <= 8 and 1 <= cur_y2 <= 8:\n",
    "                result.append((cur_x2, cur_y2))\n",
    "            else:\n",
    "                break\n",
    "        # +1, -1\n",
    "        for k in range(1, 9):\n",
    "            cur_x3 = x_position + k\n",
    "            cur_y3 = y_position - k\n",
    "            if 1<= cur_x3 <= 8 and 1<= cur_y3 <= 8:\n",
    "                result.append((cur_x3, cur_y3))\n",
    "            else:\n",
    "                \n",
    "                break\n",
    "\n",
    "        # -1, -1\n",
    "        for l in range(1, 9):\n",
    "            cur_x4 = x_position - l\n",
    "            cur_y4 = y_position - l\n",
    "            if 1<= cur_x4 <= 8 and 1<= cur_y4 <= 8:\n",
    "                result.append((cur_x4, cur_y4))\n",
    "            else:\n",
    "                break\n",
    "\n",
    "            \n",
    "#     answer = total_count - count\n",
    "    return result, 64 - len(set(result))\n",
    "solution([\"C6\", \"A4\", \"E5\"])\n",
    "# solution(['C6'])"
   ]
  },
  {
   "cell_type": "code",
   "execution_count": null,
   "metadata": {},
   "outputs": [],
   "source": []
  }
 ],
 "metadata": {
  "kernelspec": {
   "display_name": "Python 3",
   "language": "python",
   "name": "python3"
  },
  "language_info": {
   "codemirror_mode": {
    "name": "ipython",
    "version": 3
   },
   "file_extension": ".py",
   "mimetype": "text/x-python",
   "name": "python",
   "nbconvert_exporter": "python",
   "pygments_lexer": "ipython3",
   "version": "3.7.6"
  }
 },
 "nbformat": 4,
 "nbformat_minor": 4
}
