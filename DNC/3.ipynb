{
 "cells": [
  {
   "cell_type": "code",
   "execution_count": null,
   "metadata": {},
   "outputs": [],
   "source": [
    "N명의 이용자를 가진 소셜 네트워크 서비스가 있습니다. 각각의 이용자는 1번부터 N 번까지 번호가 붙어있습니다. 이 소셜 네트워크에서 각 이용자의 친구 수를 분석하려고 합니다. 이용자 A가 B의 친구라면 B도 A의 친구이며, 친구의 친구는 친구입니다. 따라서 A와 B가 친구 관계이고 B와 C가 친구 관계라면 A와 C도 친구입니다.\n",
    "다음은 N= 5인 경우의 친구 관계를 나타낸 그림입니다.\n",
    "\n",
    "친구친구1_tbq3kg.png\n",
    "\n",
    "위 그림에서 1번과 2번 이용자가 친구이고, 2번과 4번 이용자가 친구이므로 4번과 1번 이용자 또한 친구입니다. 그러나 1번과 5번 이용자는 두 이용자가 동시에 직접 친구 관계인 이용자가 없으므로 친구가 아닙니다. 따라서 1번 이용자는 총 3명의 친구를 가지고 있습니다. 마찬가지로 2번 이용자는 4명, 3번 이용자는 2명, 4번 이용자는 3명, 5번 이용자는 2명의 친구를 가지고 있습니다.\n",
    "\n",
    "소셜 네트워크의 전체 이용자 수 N, 각 이용자의 친구 관계를 담고 있는 배열 relation이 매개변수로 주어질 때, 각 이용자의 친구 수를 1번 이용자부터 순서대로 담은 배열을 return 하도록 solution 함수를 완성해 주세요.\n",
    "\n",
    "제한사항\n",
    "N은 2 이상 100 이하의 자연수입니다.\n",
    "relation의 각 원소는 친구 관계를 나타내며, relation의 길이는 1 이상 N(N-1)/2 이하입니다.\n",
    "각 친구 관계는 길이가 2인 배열이며, 순서대로 (a, b)를 나타냅니다.\n",
    "a, b(1 ≤ a, b ≤ N)는 친구 관계인 두 이용자의 번호입니다.\n",
    "a와 b가 같은 경우는 없으며, 친구 관계는 한 번씩만 주어집니다.\n",
    "입출력 예\n",
    "N\trelation\tresult\n",
    "5\t[[1,2],[4,2],[3,1],[4,5]]\t[3,4,2,3,2]\n",
    "7\t[[1,2],[4,2],[3,1],[4,5], [6,7]]\t[3,4,2,3,2,1,1]\n",
    "입출력 예 설명\n",
    "입출력 예 #1\n",
    "문제의 예시와 같습니다.\n",
    "\n",
    "입출력 예 #2\n",
    "1~5번 이용자의 관계는 입출력 예 #1과 같으며, 6, 7번 이용자가 친구 관계입니다. 따라서 1번 이용자부터 7번 이용자까지의 친구 수는 차례로 [3, 4, 2, 3, 2, 1, 1]이 됩니다."
   ]
  },
  {
   "cell_type": "code",
   "execution_count": 1,
   "metadata": {},
   "outputs": [],
   "source": [
    "relation = [[1,2],[4,2],[3,1],[4,5]]\n",
    "N = 5"
   ]
  },
  {
   "cell_type": "code",
   "execution_count": 32,
   "metadata": {},
   "outputs": [
    {
     "data": {
      "text/plain": [
       "{1: [2, 3], 2: [1, 4], 4: [2, 5], 3: [1], 5: [4]}"
      ]
     },
     "execution_count": 32,
     "metadata": {},
     "output_type": "execute_result"
    }
   ],
   "source": [
    "from collections import defaultdict\n",
    "\n",
    "dic = defaultdict(list)\n",
    "\n",
    "for i in relation:\n",
    "    origin, friend = i\n",
    "    dic[origin].append(friend)\n",
    "    dic[friend].append(origin)\n",
    "d = dict(dic)\n",
    "d"
   ]
  },
  {
   "cell_type": "code",
   "execution_count": 44,
   "metadata": {},
   "outputs": [
    {
     "data": {
      "text/plain": [
       "[3, 4, 2, 3, 2]"
      ]
     },
     "execution_count": 44,
     "metadata": {},
     "output_type": "execute_result"
    }
   ],
   "source": [
    "from collections import deque\n",
    "from collections import defaultdict\n",
    "\n",
    "def counter(g, start):\n",
    "    q = deque([])\n",
    "    done = set()\n",
    "    \n",
    "    q.append((start,0))\n",
    "    done.add(start)\n",
    "    \n",
    "    count = 0\n",
    "    \n",
    "    while q:\n",
    "        name, close = q.popleft()\n",
    "#         print(name, close)\n",
    "        for i in g[name]:\n",
    "            if i not in done and close < 2:\n",
    "                q.append((i, close+1))\n",
    "                done.add(i)\n",
    "        count += 1\n",
    "    return count\n",
    "\n",
    "def solution(relation, N):\n",
    "    dic = defaultdict(list)\n",
    "    result = []\n",
    "    for i in relation:\n",
    "        origin, friend = i\n",
    "        dic[origin].append(friend)\n",
    "        dic[friend].append(origin)\n",
    "    d = dict(dic)\n",
    "    \n",
    "    for i in range(1, N+1):\n",
    "        result.append((counter(d, i))-1)\n",
    "    return result\n",
    "relation = [[1,2],[4,2],[3,1],[4,5]]\n",
    "N = 5\n",
    "solution(relation, N)"
   ]
  },
  {
   "cell_type": "code",
   "execution_count": null,
   "metadata": {},
   "outputs": [],
   "source": []
  }
 ],
 "metadata": {
  "kernelspec": {
   "display_name": "Python 3",
   "language": "python",
   "name": "python3"
  },
  "language_info": {
   "codemirror_mode": {
    "name": "ipython",
    "version": 3
   },
   "file_extension": ".py",
   "mimetype": "text/x-python",
   "name": "python",
   "nbconvert_exporter": "python",
   "pygments_lexer": "ipython3",
   "version": "3.7.6"
  }
 },
 "nbformat": 4,
 "nbformat_minor": 4
}
